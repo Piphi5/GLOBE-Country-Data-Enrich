{
 "cells": [
  {
   "cell_type": "code",
   "execution_count": 2,
   "metadata": {},
   "outputs": [
    {
     "name": "stdin",
     "output_type": "stream",
     "text": [
      "Enter password:  ·········\n"
     ]
    }
   ],
   "source": [
    "from arcgis.gis import GIS\n",
    "gis = GIS(url=\"https://igestrategies.maps.arcgis.com\", username = \"Piphi5\")"
   ]
  },
  {
   "cell_type": "code",
   "execution_count": 10,
   "metadata": {},
   "outputs": [],
   "source": [
    "from arcgis import features\n",
    "mhm_item = gis.content.get(itemid=\"2793f3d9c4d4447ea4f21b3ad74965d4\")\n",
    "countries_item = gis.content.get(itemid=\"2b93b06dc0dc4e809d3c8db5cb96ba69\")\n",
    "temp_layer = features.analysis.join_features(target_layer=mhm_item.layers[0], join_layer=countries_item.layers[0], spatial_relationship=\"intersects\", output_name=\"Tester\")"
   ]
  },
  {
   "cell_type": "code",
   "execution_count": 11,
   "metadata": {},
   "outputs": [],
   "source": [
    "from arcgis.features import GeoAccessor\n",
    "\n",
    "filename = \"Data.csv\"\n",
    "\n",
    "temp_df = GeoAccessor.from_layer(temp_layer.layers[0])\n",
    "temp_df = temp_df.drop(labels = [\"AFF_ISO\", \"ISO\", \"Join_Count\", \"OBJECTID\", \"TARGET_FID\"], axis = 1)\n",
    "temp_df.to_csv(filename)"
   ]
  },
  {
   "cell_type": "code",
   "execution_count": 13,
   "metadata": {},
   "outputs": [
    {
     "name": "stdout",
     "output_type": "stream",
     "text": [
      " - Service Last Modified: Tue, 26 Jan 2021 06:41:20 GMT\n",
      "\n",
      "Performing Overwrite...\n",
      " - Success! Elapsed Time: 0:00:41.515059\n"
     ]
    },
    {
     "data": {
      "text/plain": [
       "{'success': True,\n",
       " 'items': [{'id': 'a988ac7da45747519292b67b05ff288a',\n",
       "   'title': 'Country MHM Test',\n",
       "   'itemType': 'Feature Service',\n",
       "   'action': 'update',\n",
       "   'result': True}]}"
      ]
     },
     "execution_count": 13,
     "metadata": {},
     "output_type": "execute_result"
    }
   ],
   "source": [
    "import OverwriteFS\n",
    "\n",
    "item_id = \"a988ac7da45747519292b67b05ff288a\"\n",
    "item = gis.content.get(item_id)\n",
    "OverwriteFS.overwriteFeatureService(item, updateFile=filename, touchItems=True, verbose=True)"
   ]
  },
  {
   "cell_type": "code",
   "execution_count": 14,
   "metadata": {},
   "outputs": [
    {
     "data": {
      "text/plain": [
       "True"
      ]
     },
     "execution_count": 14,
     "metadata": {},
     "output_type": "execute_result"
    }
   ],
   "source": [
    "temp_layer.delete()"
   ]
  },
  {
   "cell_type": "code",
   "execution_count": null,
   "metadata": {},
   "outputs": [],
   "source": []
  }
 ],
 "metadata": {
  "kernelspec": {
   "display_name": "Python 3",
   "language": "python",
   "name": "python3"
  },
  "language_info": {
   "codemirror_mode": {
    "name": "ipython",
    "version": 3
   },
   "file_extension": ".py",
   "mimetype": "text/x-python",
   "name": "python",
   "nbconvert_exporter": "python",
   "pygments_lexer": "ipython3",
   "version": "3.8.5"
  }
 },
 "nbformat": 4,
 "nbformat_minor": 4
}
